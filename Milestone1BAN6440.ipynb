{
 "cells": [
  {
   "cell_type": "code",
   "execution_count": 124,
   "id": "8977ea88-e0c4-4796-b5be-f834dd86a0bf",
   "metadata": {},
   "outputs": [
    {
     "name": "stderr",
     "output_type": "stream",
     "text": [
      "[nltk_data] Downloading package stopwords to\n",
      "[nltk_data]     C:\\Users\\User\\AppData\\Roaming\\nltk_data...\n",
      "[nltk_data]   Package stopwords is already up-to-date!\n",
      "[nltk_data] Downloading package wordnet to\n",
      "[nltk_data]     C:\\Users\\User\\AppData\\Roaming\\nltk_data...\n",
      "[nltk_data]   Package wordnet is already up-to-date!\n"
     ]
    },
    {
     "data": {
      "text/plain": [
       "True"
      ]
     },
     "execution_count": 124,
     "metadata": {},
     "output_type": "execute_result"
    }
   ],
   "source": [
    "# Import Libraries \n",
    "import pandas as pd \n",
    "import numpy as np\n",
    "import matplotlib.pyplot as plt\n",
    "import seaborn as sns\n",
    "import string\n",
    "import nltk\n",
    "from nltk.stem import WordNetLemmatizer\n",
    "from sklearn.model_selection import train_test_split\n",
    "from sklearn.feature_extraction.text import TfidfVectorizer\n",
    "from sklearn.linear_model import LogisticRegression, LinearRegression, Perceptron\n",
    "from sklearn.metrics import accuracy_score, classification_report, confusion_matrix\n",
    "from sklearn.preprocessing import LabelEncoder\n",
    "import unittest\n",
    "\n",
    "nltk.download('stopwords')\n",
    "nltk.download('wordnet')"
   ]
  },
  {
   "cell_type": "code",
   "execution_count": 126,
   "id": "cdd31931-1ee1-4712-b804-7c79a5daf56e",
   "metadata": {},
   "outputs": [],
   "source": [
    "# Load the Dataset \n",
    "df= pd.read_csv(r\"C:\\Users\\User\\Documents\\BAN 6440\\email_spam.csv\")"
   ]
  },
  {
   "cell_type": "code",
   "execution_count": 128,
   "id": "39c01ffb-e4a6-4b75-abf5-48f593a91e38",
   "metadata": {},
   "outputs": [
    {
     "data": {
      "text/html": [
       "<div>\n",
       "<style scoped>\n",
       "    .dataframe tbody tr th:only-of-type {\n",
       "        vertical-align: middle;\n",
       "    }\n",
       "\n",
       "    .dataframe tbody tr th {\n",
       "        vertical-align: top;\n",
       "    }\n",
       "\n",
       "    .dataframe thead th {\n",
       "        text-align: right;\n",
       "    }\n",
       "</style>\n",
       "<table border=\"1\" class=\"dataframe\">\n",
       "  <thead>\n",
       "    <tr style=\"text-align: right;\">\n",
       "      <th></th>\n",
       "      <th>title</th>\n",
       "      <th>text</th>\n",
       "      <th>type</th>\n",
       "    </tr>\n",
       "  </thead>\n",
       "  <tbody>\n",
       "    <tr>\n",
       "      <th>0</th>\n",
       "      <td>?? the secrets to SUCCESS</td>\n",
       "      <td>Hi James,\\n\\nHave you claim your complimentary...</td>\n",
       "      <td>spam</td>\n",
       "    </tr>\n",
       "    <tr>\n",
       "      <th>1</th>\n",
       "      <td>?? You Earned 500 GCLoot Points</td>\n",
       "      <td>\\nalt_text\\nCongratulations, you just earned\\n...</td>\n",
       "      <td>not spam</td>\n",
       "    </tr>\n",
       "    <tr>\n",
       "      <th>2</th>\n",
       "      <td>?? Your GitHub launch code</td>\n",
       "      <td>Here's your GitHub launch code, @Mortyj420!\\n ...</td>\n",
       "      <td>not spam</td>\n",
       "    </tr>\n",
       "    <tr>\n",
       "      <th>3</th>\n",
       "      <td>[The Virtual Reward Center] Re: ** Clarifications</td>\n",
       "      <td>Hello,\\n \\nThank you for contacting the Virtua...</td>\n",
       "      <td>not spam</td>\n",
       "    </tr>\n",
       "    <tr>\n",
       "      <th>4</th>\n",
       "      <td>10-1 MLB Expert Inside, Plus Everything You Ne...</td>\n",
       "      <td>Hey Prachanda Rawal,\\n\\nToday's newsletter is ...</td>\n",
       "      <td>spam</td>\n",
       "    </tr>\n",
       "  </tbody>\n",
       "</table>\n",
       "</div>"
      ],
      "text/plain": [
       "                                               title  \\\n",
       "0                          ?? the secrets to SUCCESS   \n",
       "1                    ?? You Earned 500 GCLoot Points   \n",
       "2                         ?? Your GitHub launch code   \n",
       "3  [The Virtual Reward Center] Re: ** Clarifications   \n",
       "4  10-1 MLB Expert Inside, Plus Everything You Ne...   \n",
       "\n",
       "                                                text      type  \n",
       "0  Hi James,\\n\\nHave you claim your complimentary...      spam  \n",
       "1  \\nalt_text\\nCongratulations, you just earned\\n...  not spam  \n",
       "2  Here's your GitHub launch code, @Mortyj420!\\n ...  not spam  \n",
       "3  Hello,\\n \\nThank you for contacting the Virtua...  not spam  \n",
       "4  Hey Prachanda Rawal,\\n\\nToday's newsletter is ...      spam  "
      ]
     },
     "execution_count": 128,
     "metadata": {},
     "output_type": "execute_result"
    }
   ],
   "source": [
    "df.head()"
   ]
  },
  {
   "cell_type": "code",
   "execution_count": 130,
   "id": "43912240-c2e6-409f-9d8f-23c428c25861",
   "metadata": {},
   "outputs": [
    {
     "name": "stdout",
     "output_type": "stream",
     "text": [
      "<class 'pandas.core.frame.DataFrame'>\n",
      "RangeIndex: 84 entries, 0 to 83\n",
      "Data columns (total 3 columns):\n",
      " #   Column  Non-Null Count  Dtype \n",
      "---  ------  --------------  ----- \n",
      " 0   title   84 non-null     object\n",
      " 1   text    84 non-null     object\n",
      " 2   type    84 non-null     object\n",
      "dtypes: object(3)\n",
      "memory usage: 2.1+ KB\n"
     ]
    }
   ],
   "source": [
    "df.info()"
   ]
  },
  {
   "cell_type": "code",
   "execution_count": 132,
   "id": "dbc47515-d207-4da0-a845-8741d8fc3680",
   "metadata": {},
   "outputs": [
    {
     "data": {
      "text/plain": [
       "(84, 3)"
      ]
     },
     "execution_count": 132,
     "metadata": {},
     "output_type": "execute_result"
    }
   ],
   "source": [
    "df.shape"
   ]
  },
  {
   "cell_type": "code",
   "execution_count": 10,
   "id": "cc47ec06-b3a4-4b7f-b23d-ed9667e4e3d5",
   "metadata": {},
   "outputs": [
    {
     "data": {
      "text/plain": [
       "title    0\n",
       "text     0\n",
       "type     0\n",
       "dtype: int64"
      ]
     },
     "execution_count": 10,
     "metadata": {},
     "output_type": "execute_result"
    }
   ],
   "source": [
    "# Checking for missing values\n",
    "df.isnull().sum()"
   ]
  },
  {
   "cell_type": "code",
   "execution_count": 12,
   "id": "465eccd8-765c-49fb-8189-f4a7dd55bef1",
   "metadata": {},
   "outputs": [
    {
     "data": {
      "text/plain": [
       "1"
      ]
     },
     "execution_count": 12,
     "metadata": {},
     "output_type": "execute_result"
    }
   ],
   "source": [
    "#check duplicates \n",
    "df.duplicated().sum()"
   ]
  },
  {
   "cell_type": "code",
   "execution_count": 14,
   "id": "ceff8aec-2369-4ea1-806a-3e12d7ec83fe",
   "metadata": {},
   "outputs": [],
   "source": [
    "#Drop Duplicates\n",
    "df.drop_duplicates(inplace=True)"
   ]
  },
  {
   "cell_type": "code",
   "execution_count": 134,
   "id": "65bb5d93-355b-4651-890e-95a64910707b",
   "metadata": {},
   "outputs": [
    {
     "data": {
      "image/png": "[encoded data removed]",
      "text/plain": [
       "<Figure size 640x480 with 1 Axes>"
      ]
     },
     "metadata": {},
     "output_type": "display_data"
    }
   ],
   "source": [
    "#Visualize Original Class Distribution\n",
    "sns.countplot(x='type', data=df)\n",
    "plt.title(\"Original Class Distribution\")\n",
    "plt.show()"
   ]
  },
  {
   "cell_type": "code",
   "execution_count": 70,
   "id": "86fcf6b3-9f59-4bce-8463-02871776725c",
   "metadata": {},
   "outputs": [
    {
     "data": {
      "image/png": "[encoded data removed]",
      "text/plain": [
       "<Figure size 640x480 with 1 Axes>"
      ]
     },
     "metadata": {},
     "output_type": "display_data"
    }
   ],
   "source": [
    "# Separate spam and not-spam emails using numerical labels\n",
    "notspam_msg = df[df['type'] == 'not spam']\n",
    "spam_msg = df[df['type'] == 'spam']\n",
    "\n",
    "# Downsample not-spam (majority class) to match spam (minority class)\n",
    "notspam_msg_balanced = notspam_msg.sample(n=len(spam_msg), random_state=42)\n",
    "\n",
    "# Combine the balanced dataset and shuffle it\n",
    "balanced_data = pd.concat([notspam_msg_balanced, spam_msg])\n",
    "balanced_data = balanced_data.sample(frac=1, random_state=42).reset_index(drop=True)\n",
    "\n",
    "# Visualize the balanced dataset\n",
    "sns.countplot(x='type', data=balanced_data)\n",
    "plt.title(\"Balanced Distribution of Spam and Not-spam Emails\")\n",
    "plt.xlabel(\"Email type\")\n",
    "plt.ylabel(\"Count\")\n",
    "plt.show()\n"
   ]
  },
  {
   "cell_type": "code",
   "execution_count": 90,
   "id": "2583cb95-791e-43ba-bfee-22b96cdb1b34",
   "metadata": {},
   "outputs": [
    {
     "data": {
      "text/html": [
       "<div>\n",
       "<style scoped>\n",
       "    .dataframe tbody tr th:only-of-type {\n",
       "        vertical-align: middle;\n",
       "    }\n",
       "\n",
       "    .dataframe tbody tr th {\n",
       "        vertical-align: top;\n",
       "    }\n",
       "\n",
       "    .dataframe thead th {\n",
       "        text-align: right;\n",
       "    }\n",
       "</style>\n",
       "<table border=\"1\" class=\"dataframe\">\n",
       "  <thead>\n",
       "    <tr style=\"text-align: right;\">\n",
       "      <th></th>\n",
       "      <th>title</th>\n",
       "      <th>text</th>\n",
       "      <th>label</th>\n",
       "    </tr>\n",
       "  </thead>\n",
       "  <tbody>\n",
       "    <tr>\n",
       "      <th>0</th>\n",
       "      <td>If coding in C++ is so extremely hard, why do ...</td>\n",
       "      <td>TOP STORIES FOR VIRA\\n\\nQuora\\n?\\nIf coding in...</td>\n",
       "      <td>0</td>\n",
       "    </tr>\n",
       "    <tr>\n",
       "      <th>1</th>\n",
       "      <td>Limited offer. Hurry up!</td>\n",
       "      <td>\\nLess than $1 for any of our 214 million amaz...</td>\n",
       "      <td>1</td>\n",
       "    </tr>\n",
       "    <tr>\n",
       "      <th>2</th>\n",
       "      <td>Time is of the Essence!</td>\n",
       "      <td>Dear Customer,\\n\\nThe 2022 filing season is al...</td>\n",
       "      <td>1</td>\n",
       "    </tr>\n",
       "    <tr>\n",
       "      <th>3</th>\n",
       "      <td>Update: New Twitch Account Linked</td>\n",
       "      <td>Dear denis:\\n\\nYour Amazon account: denis.supe...</td>\n",
       "      <td>0</td>\n",
       "    </tr>\n",
       "    <tr>\n",
       "      <th>4</th>\n",
       "      <td>Meeting with Walid TOMORROW</td>\n",
       "      <td>Hello Walid,\\n\\nOur Zoom call meeting is tomor...</td>\n",
       "      <td>1</td>\n",
       "    </tr>\n",
       "  </tbody>\n",
       "</table>\n",
       "</div>"
      ],
      "text/plain": [
       "                                               title  \\\n",
       "0  If coding in C++ is so extremely hard, why do ...   \n",
       "1                           Limited offer. Hurry up!   \n",
       "2                            Time is of the Essence!   \n",
       "3                  Update: New Twitch Account Linked   \n",
       "4                        Meeting with Walid TOMORROW   \n",
       "\n",
       "                                                text  label  \n",
       "0  TOP STORIES FOR VIRA\\n\\nQuora\\n?\\nIf coding in...      0  \n",
       "1  \\nLess than $1 for any of our 214 million amaz...      1  \n",
       "2  Dear Customer,\\n\\nThe 2022 filing season is al...      1  \n",
       "3  Dear denis:\\n\\nYour Amazon account: denis.supe...      0  \n",
       "4  Hello Walid,\\n\\nOur Zoom call meeting is tomor...      1  "
      ]
     },
     "execution_count": 90,
     "metadata": {},
     "output_type": "execute_result"
    }
   ],
   "source": [
    "# Clean the text \n",
    "balanced_data['text'] = balanced_data['text'].str.replace('Subject', '', regex=False)\n",
    "lemmatizer = WordNetLemmatizer()\n",
    "balanced_data.head()"
   ]
  },
  {
   "cell_type": "code",
   "execution_count": 92,
   "id": "5695807f-f973-4ce5-9d76-5bf1c579454e",
   "metadata": {},
   "outputs": [
    {
     "data": {
      "text/html": [
       "<div>\n",
       "<style scoped>\n",
       "    .dataframe tbody tr th:only-of-type {\n",
       "        vertical-align: middle;\n",
       "    }\n",
       "\n",
       "    .dataframe tbody tr th {\n",
       "        vertical-align: top;\n",
       "    }\n",
       "\n",
       "    .dataframe thead th {\n",
       "        text-align: right;\n",
       "    }\n",
       "</style>\n",
       "<table border=\"1\" class=\"dataframe\">\n",
       "  <thead>\n",
       "    <tr style=\"text-align: right;\">\n",
       "      <th></th>\n",
       "      <th>title</th>\n",
       "      <th>text</th>\n",
       "      <th>label</th>\n",
       "    </tr>\n",
       "  </thead>\n",
       "  <tbody>\n",
       "    <tr>\n",
       "      <th>0</th>\n",
       "      <td>If coding in C++ is so extremely hard, why do ...</td>\n",
       "      <td>top story vira quora coding c++ extremely hard...</td>\n",
       "      <td>0</td>\n",
       "    </tr>\n",
       "    <tr>\n",
       "      <th>1</th>\n",
       "      <td>Limited offer. Hurry up!</td>\n",
       "      <td>le $1 214 million amazing stock photo illustra...</td>\n",
       "      <td>1</td>\n",
       "    </tr>\n",
       "    <tr>\n",
       "      <th>2</th>\n",
       "      <td>Time is of the Essence!</td>\n",
       "      <td>dear customer, 2022 filing season almost comin...</td>\n",
       "      <td>1</td>\n",
       "    </tr>\n",
       "    <tr>\n",
       "      <th>3</th>\n",
       "      <td>Update: New Twitch Account Linked</td>\n",
       "      <td>dear denis: amazon account: denis.supermen888@...</td>\n",
       "      <td>0</td>\n",
       "    </tr>\n",
       "    <tr>\n",
       "      <th>4</th>\n",
       "      <td>Meeting with Walid TOMORROW</td>\n",
       "      <td>hello walid, zoom call meeting tomorrow thursd...</td>\n",
       "      <td>1</td>\n",
       "    </tr>\n",
       "  </tbody>\n",
       "</table>\n",
       "</div>"
      ],
      "text/plain": [
       "                                               title  \\\n",
       "0  If coding in C++ is so extremely hard, why do ...   \n",
       "1                           Limited offer. Hurry up!   \n",
       "2                            Time is of the Essence!   \n",
       "3                  Update: New Twitch Account Linked   \n",
       "4                        Meeting with Walid TOMORROW   \n",
       "\n",
       "                                                text  label  \n",
       "0  top story vira quora coding c++ extremely hard...      0  \n",
       "1  le $1 214 million amazing stock photo illustra...      1  \n",
       "2  dear customer, 2022 filing season almost comin...      1  \n",
       "3  dear denis: amazon account: denis.supermen888@...      0  \n",
       "4  hello walid, zoom call meeting tomorrow thursd...      1  "
      ]
     },
     "execution_count": 92,
     "metadata": {},
     "output_type": "execute_result"
    }
   ],
   "source": [
    "def clean_text(text):\n",
    "    stop_words = stopwords.words('english')\n",
    "    return \" \".join([\n",
    "        lemmatizer.lemmatize(word.lower())\n",
    "        for word in str(text).split()\n",
    "        if word.lower() not in stop_words and word not in string.punctuation\n",
    "    ])\n",
    "balanced_data['text'] = balanced_data['text'].apply(clean_text)\n",
    "balanced_data.head()\n"
   ]
  },
  {
   "cell_type": "code",
   "execution_count": 76,
   "id": "c1659291-328e-47b6-bc76-149c371f77b6",
   "metadata": {},
   "outputs": [
    {
     "data": {
      "text/plain": [
       "label\n",
       "0        26\n",
       "1        26\n",
       "Name: count, dtype: int64"
      ]
     },
     "execution_count": 76,
     "metadata": {},
     "output_type": "execute_result"
    }
   ],
   "source": [
    "# Encode the target labels\n",
    "label_encoder = LabelEncoder()\n",
    "balanced_data['label'] = label_encoder.fit_transform(balanced_data['type'])\n",
    "\n",
    "# Drop original 'type' column\n",
    "balanced_data.drop('type', axis=1, inplace=True)\n",
    "\n",
    "# Check result\n",
    "balanced_data[['label']].value_counts()"
   ]
  },
  {
   "cell_type": "code",
   "execution_count": 108,
   "id": "33140ad4-50de-46f8-82fd-00a11ffd63c0",
   "metadata": {},
   "outputs": [],
   "source": [
    "# Vectorization\n",
    "tfidf = TfidfVectorizer(max_features=2000, ngram_range=(1, 2))\n",
    "X = tfidf.fit_transform(balanced_data['text']).toarray()\n",
    "y = balanced_data['label']"
   ]
  },
  {
   "cell_type": "code",
   "execution_count": 110,
   "id": "521c0754-b00d-4788-bc14-a572e30df751",
   "metadata": {},
   "outputs": [],
   "source": [
    "# Split into train and test sets\n",
    "X_train, X_test, y_train, y_test = train_test_split(X, y, test_size=0.2, random_state=42, stratify=y)"
   ]
  },
  {
   "cell_type": "code",
   "execution_count": 112,
   "id": "ee0ef52b-6d11-4f7a-843b-03a05ea26be9",
   "metadata": {},
   "outputs": [
    {
     "name": "stdout",
     "output_type": "stream",
     "text": [
      "Logistic Regression Accuracy: 0.8181818181818182\n",
      "              precision    recall  f1-score   support\n",
      "\n",
      "           0       1.00      0.67      0.80         6\n",
      "           1       0.71      1.00      0.83         5\n",
      "\n",
      "    accuracy                           0.82        11\n",
      "   macro avg       0.86      0.83      0.82        11\n",
      "weighted avg       0.87      0.82      0.82        11\n",
      "\n"
     ]
    }
   ],
   "source": [
    "# Logistic Regression\n",
    "log_model = LogisticRegression(C=1, penalty='l2', solver='liblinear')\n",
    "log_model.fit(X_train, y_train)\n",
    "y_pred_log = log_model.predict(X_test)\n",
    "\n",
    "print(\"Logistic Regression Accuracy:\", accuracy_score(y_test, y_pred_log))\n",
    "print(classification_report(y_test, y_pred_log))\n"
   ]
  },
  {
   "cell_type": "code",
   "execution_count": 114,
   "id": "d649ea4e-95fd-4875-bf36-f457ea81bdb3",
   "metadata": {},
   "outputs": [
    {
     "name": "stdout",
     "output_type": "stream",
     "text": [
      "Linear Regression Accuracy: 0.8181818181818182\n",
      "              precision    recall  f1-score   support\n",
      "\n",
      "           0       1.00      0.67      0.80         6\n",
      "           1       0.71      1.00      0.83         5\n",
      "\n",
      "    accuracy                           0.82        11\n",
      "   macro avg       0.86      0.83      0.82        11\n",
      "weighted avg       0.87      0.82      0.82        11\n",
      "\n"
     ]
    }
   ],
   "source": [
    "# Linear Regression (Convert regression output to binary class)\n",
    "lin_model = LinearRegression()\n",
    "lin_model.fit(X_train, y_train)\n",
    "y_pred_lin = lin_model.predict(X_test)\n",
    "y_pred_lin = np.where(y_pred_lin >= 0.5, 1, 0)\n",
    "\n",
    "print(\"Linear Regression Accuracy:\", accuracy_score(y_test, y_pred_lin))\n",
    "print(classification_report(y_test, y_pred_lin))"
   ]
  },
  {
   "cell_type": "code",
   "execution_count": 116,
   "id": "ab17449d-da4f-4e64-b669-3f539e1e99e4",
   "metadata": {},
   "outputs": [
    {
     "name": "stdout",
     "output_type": "stream",
     "text": [
      "Perceptron Accuracy: 0.8181818181818182\n",
      "              precision    recall  f1-score   support\n",
      "\n",
      "           0       0.75      1.00      0.86         6\n",
      "           1       1.00      0.60      0.75         5\n",
      "\n",
      "    accuracy                           0.82        11\n",
      "   macro avg       0.88      0.80      0.80        11\n",
      "weighted avg       0.86      0.82      0.81        11\n",
      "\n"
     ]
    }
   ],
   "source": [
    "# Perceptron\n",
    "perc_model = Perceptron()\n",
    "perc_model.fit(X_train, y_train)\n",
    "y_pred_perc = perc_model.predict(X_test)\n",
    "\n",
    "print(\"Perceptron Accuracy:\", accuracy_score(y_test, y_pred_perc))\n",
    "print(classification_report(y_test, y_pred_perc))"
   ]
  },
  {
   "cell_type": "code",
   "execution_count": 118,
   "id": "5cdddf1d-e47a-456a-be90-0222ecf0aa5b",
   "metadata": {},
   "outputs": [
    {
     "data": {
      "image/png": "[encoded data removed]",
      "text/plain": [
       "<Figure size 640x480 with 2 Axes>"
      ]
     },
     "metadata": {},
     "output_type": "display_data"
    },
    {
     "data": {
      "image/png": "[encoded data removed]",
      "text/plain": [
       "<Figure size 640x480 with 2 Axes>"
      ]
     },
     "metadata": {},
     "output_type": "display_data"
    },
    {
     "data": {
      "image/png": "[encoded data removed]",
      "text/plain": [
       "<Figure size 640x480 with 2 Axes>"
      ]
     },
     "metadata": {},
     "output_type": "display_data"
    }
   ],
   "source": [
    "# Confusion Matrix\n",
    "models = {\n",
    "    \"Logistic Regression\": y_pred_log,\n",
    "    \"Perceptron\": y_pred_perc,\n",
    "    \"Linear Regression\": y_pred_lin\n",
    "}\n",
    "for model_name, predictions in models.items():\n",
    "    cm = confusion_matrix(y_test, predictions)\n",
    "    sns.heatmap(cm, annot=True, fmt='d', cmap='Blues')\n",
    "    plt.title(f\"Confusion Matrix - {model_name}\")\n",
    "    plt.xlabel('Predicted')\n",
    "    plt.ylabel('Actual')\n",
    "    plt.show()"
   ]
  },
  {
   "cell_type": "code",
   "execution_count": 120,
   "id": "89c6c647-dd0f-4300-8201-12305a10066d",
   "metadata": {},
   "outputs": [
    {
     "name": "stderr",
     "output_type": "stream",
     "text": [
      "test_linear_accuracy (__main__.TestSpamFilter.test_linear_accuracy) ... ok\n",
      "test_log_model_accuracy (__main__.TestSpamFilter.test_log_model_accuracy) ... ok\n",
      "test_perceptron_accuracy (__main__.TestSpamFilter.test_perceptron_accuracy) ... ok\n",
      "\n",
      "----------------------------------------------------------------------\n",
      "Ran 3 tests in 0.006s\n",
      "\n",
      "OK\n"
     ]
    },
    {
     "data": {
      "text/plain": [
       "<unittest.main.TestProgram at 0x1cd46c576e0>"
      ]
     },
     "execution_count": 120,
     "metadata": {},
     "output_type": "execute_result"
    }
   ],
   "source": [
    "# Unit test\n",
    "class TestSpamFilter(unittest.TestCase):\n",
    "\n",
    "    def test_log_model_accuracy(self):\n",
    "        acc = accuracy_score(y_test, y_pred_log)\n",
    "        self.assertGreater(acc, 0.75)\n",
    "\n",
    "    def test_perceptron_accuracy(self):\n",
    "        acc = accuracy_score(y_test, y_pred_perc)\n",
    "        self.assertGreater(acc, 0.70)\n",
    "\n",
    "    def test_linear_accuracy(self):\n",
    "        acc = accuracy_score(y_test, y_pred_lin)\n",
    "        self.assertGreater(acc, 0.60)\n",
    "\n",
    "# Run tests\n",
    "unittest.main(argv=[''], verbosity=2, exit=False)\n"
   ]
  },
  {
   "cell_type": "code",
   "execution_count": null,
   "id": "07142ecb-302e-4f70-85b6-f6aae586c010",
   "metadata": {},
   "outputs": [],
   "source": []
  }
 ],
 "metadata": {
  "kernelspec": {
   "display_name": "Python 3 (ipykernel)",
   "language": "python",
   "name": "python3"
  },
  "language_info": {
   "codemirror_mode": {
    "name": "ipython",
    "version": 3
   },
   "file_extension": ".py",
   "mimetype": "text/x-python",
   "name": "python",
   "nbconvert_exporter": "python",
   "pygments_lexer": "ipython3",
   "version": "3.12.4"
  }
 },
 "nbformat": 4,
 "nbformat_minor": 5
}
